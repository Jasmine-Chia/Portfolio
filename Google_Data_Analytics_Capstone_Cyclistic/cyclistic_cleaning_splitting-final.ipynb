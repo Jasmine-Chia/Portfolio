{
 "cells": [
  {
   "cell_type": "code",
   "execution_count": 1,
   "id": "2310078d-d002-4618-8f4c-cd31404f27d4",
   "metadata": {},
   "outputs": [],
   "source": [
    "import pandas as pd\n",
    "import seaborn as sns\n",
    "import matplotlib.pyplot as plt"
   ]
  },
  {
   "cell_type": "code",
   "execution_count": 2,
   "id": "feb4cbea-0141-4b42-8e58-d27c18f05782",
   "metadata": {},
   "outputs": [
    {
     "data": {
      "text/html": [
       "<div>\n",
       "<style scoped>\n",
       "    .dataframe tbody tr th:only-of-type {\n",
       "        vertical-align: middle;\n",
       "    }\n",
       "\n",
       "    .dataframe tbody tr th {\n",
       "        vertical-align: top;\n",
       "    }\n",
       "\n",
       "    .dataframe thead th {\n",
       "        text-align: right;\n",
       "    }\n",
       "</style>\n",
       "<table border=\"1\" class=\"dataframe\">\n",
       "  <thead>\n",
       "    <tr style=\"text-align: right;\">\n",
       "      <th></th>\n",
       "      <th>ride_id</th>\n",
       "      <th>rideable_type</th>\n",
       "      <th>started_at</th>\n",
       "      <th>ended_at</th>\n",
       "      <th>start_station_name</th>\n",
       "      <th>start_station_id</th>\n",
       "      <th>end_station_name</th>\n",
       "      <th>end_station_id</th>\n",
       "      <th>start_lat</th>\n",
       "      <th>start_lng</th>\n",
       "      <th>end_lat</th>\n",
       "      <th>end_lng</th>\n",
       "      <th>member_casual</th>\n",
       "    </tr>\n",
       "  </thead>\n",
       "  <tbody>\n",
       "    <tr>\n",
       "      <th>0</th>\n",
       "      <td>F96D5A74A3E41399</td>\n",
       "      <td>electric_bike</td>\n",
       "      <td>2023-01-21 20:05:42</td>\n",
       "      <td>2023-01-21 20:16:33</td>\n",
       "      <td>Lincoln Ave &amp; Fullerton Ave</td>\n",
       "      <td>TA1309000058</td>\n",
       "      <td>Hampden Ct &amp; Diversey Ave</td>\n",
       "      <td>202480.0</td>\n",
       "      <td>41.924074</td>\n",
       "      <td>-87.646278</td>\n",
       "      <td>41.930000</td>\n",
       "      <td>-87.640000</td>\n",
       "      <td>member</td>\n",
       "    </tr>\n",
       "    <tr>\n",
       "      <th>1</th>\n",
       "      <td>13CB7EB698CEDB88</td>\n",
       "      <td>classic_bike</td>\n",
       "      <td>2023-01-10 15:37:36</td>\n",
       "      <td>2023-01-10 15:46:05</td>\n",
       "      <td>Kimbark Ave &amp; 53rd St</td>\n",
       "      <td>TA1309000037</td>\n",
       "      <td>Greenwood Ave &amp; 47th St</td>\n",
       "      <td>TA1308000002</td>\n",
       "      <td>41.799568</td>\n",
       "      <td>-87.594747</td>\n",
       "      <td>41.809835</td>\n",
       "      <td>-87.599383</td>\n",
       "      <td>member</td>\n",
       "    </tr>\n",
       "    <tr>\n",
       "      <th>2</th>\n",
       "      <td>BD88A2E670661CE5</td>\n",
       "      <td>electric_bike</td>\n",
       "      <td>2023-01-02 07:51:57</td>\n",
       "      <td>2023-01-02 08:05:11</td>\n",
       "      <td>Western Ave &amp; Lunt Ave</td>\n",
       "      <td>RP-005</td>\n",
       "      <td>Valli Produce - Evanston Plaza</td>\n",
       "      <td>599</td>\n",
       "      <td>42.008571</td>\n",
       "      <td>-87.690483</td>\n",
       "      <td>42.039742</td>\n",
       "      <td>-87.699413</td>\n",
       "      <td>casual</td>\n",
       "    </tr>\n",
       "    <tr>\n",
       "      <th>3</th>\n",
       "      <td>C90792D034FED968</td>\n",
       "      <td>classic_bike</td>\n",
       "      <td>2023-01-22 10:52:58</td>\n",
       "      <td>2023-01-22 11:01:44</td>\n",
       "      <td>Kimbark Ave &amp; 53rd St</td>\n",
       "      <td>TA1309000037</td>\n",
       "      <td>Greenwood Ave &amp; 47th St</td>\n",
       "      <td>TA1308000002</td>\n",
       "      <td>41.799568</td>\n",
       "      <td>-87.594747</td>\n",
       "      <td>41.809835</td>\n",
       "      <td>-87.599383</td>\n",
       "      <td>member</td>\n",
       "    </tr>\n",
       "    <tr>\n",
       "      <th>4</th>\n",
       "      <td>3397017529188E8A</td>\n",
       "      <td>classic_bike</td>\n",
       "      <td>2023-01-12 13:58:01</td>\n",
       "      <td>2023-01-12 14:13:20</td>\n",
       "      <td>Kimbark Ave &amp; 53rd St</td>\n",
       "      <td>TA1309000037</td>\n",
       "      <td>Greenwood Ave &amp; 47th St</td>\n",
       "      <td>TA1308000002</td>\n",
       "      <td>41.799568</td>\n",
       "      <td>-87.594747</td>\n",
       "      <td>41.809835</td>\n",
       "      <td>-87.599383</td>\n",
       "      <td>member</td>\n",
       "    </tr>\n",
       "  </tbody>\n",
       "</table>\n",
       "</div>"
      ],
      "text/plain": [
       "            ride_id  rideable_type           started_at             ended_at  \\\n",
       "0  F96D5A74A3E41399  electric_bike  2023-01-21 20:05:42  2023-01-21 20:16:33   \n",
       "1  13CB7EB698CEDB88   classic_bike  2023-01-10 15:37:36  2023-01-10 15:46:05   \n",
       "2  BD88A2E670661CE5  electric_bike  2023-01-02 07:51:57  2023-01-02 08:05:11   \n",
       "3  C90792D034FED968   classic_bike  2023-01-22 10:52:58  2023-01-22 11:01:44   \n",
       "4  3397017529188E8A   classic_bike  2023-01-12 13:58:01  2023-01-12 14:13:20   \n",
       "\n",
       "            start_station_name start_station_id  \\\n",
       "0  Lincoln Ave & Fullerton Ave     TA1309000058   \n",
       "1        Kimbark Ave & 53rd St     TA1309000037   \n",
       "2       Western Ave & Lunt Ave           RP-005   \n",
       "3        Kimbark Ave & 53rd St     TA1309000037   \n",
       "4        Kimbark Ave & 53rd St     TA1309000037   \n",
       "\n",
       "                 end_station_name end_station_id  start_lat  start_lng  \\\n",
       "0       Hampden Ct & Diversey Ave       202480.0  41.924074 -87.646278   \n",
       "1         Greenwood Ave & 47th St   TA1308000002  41.799568 -87.594747   \n",
       "2  Valli Produce - Evanston Plaza            599  42.008571 -87.690483   \n",
       "3         Greenwood Ave & 47th St   TA1308000002  41.799568 -87.594747   \n",
       "4         Greenwood Ave & 47th St   TA1308000002  41.799568 -87.594747   \n",
       "\n",
       "     end_lat    end_lng member_casual  \n",
       "0  41.930000 -87.640000        member  \n",
       "1  41.809835 -87.599383        member  \n",
       "2  42.039742 -87.699413        casual  \n",
       "3  41.809835 -87.599383        member  \n",
       "4  41.809835 -87.599383        member  "
      ]
     },
     "execution_count": 2,
     "metadata": {},
     "output_type": "execute_result"
    }
   ],
   "source": [
    "#Import the combined dataset\n",
    "df = pd.read_csv('/Users/jasmine/Documents/GoogleDataAnalytics/Course8/CS1_cyclistic/CyclisticData/csv/combined_cyclistic_data.csv')\n",
    "df.head()"
   ]
  },
  {
   "cell_type": "code",
   "execution_count": 3,
   "id": "e21cd369-64a4-4885-a547-d7590153974c",
   "metadata": {},
   "outputs": [
    {
     "name": "stdout",
     "output_type": "stream",
     "text": [
      "<class 'pandas.core.frame.DataFrame'>\n",
      "RangeIndex: 5719877 entries, 0 to 5719876\n",
      "Data columns (total 13 columns):\n",
      " #   Column              Dtype  \n",
      "---  ------              -----  \n",
      " 0   ride_id             object \n",
      " 1   rideable_type       object \n",
      " 2   started_at          object \n",
      " 3   ended_at            object \n",
      " 4   start_station_name  object \n",
      " 5   start_station_id    object \n",
      " 6   end_station_name    object \n",
      " 7   end_station_id      object \n",
      " 8   start_lat           float64\n",
      " 9   start_lng           float64\n",
      " 10  end_lat             float64\n",
      " 11  end_lng             float64\n",
      " 12  member_casual       object \n",
      "dtypes: float64(4), object(9)\n",
      "memory usage: 567.3+ MB\n"
     ]
    }
   ],
   "source": [
    "df.info()"
   ]
  },
  {
   "cell_type": "code",
   "execution_count": 4,
   "id": "200425c4-558f-423b-b954-e5e48a685463",
   "metadata": {},
   "outputs": [
    {
     "data": {
      "text/plain": [
       "0"
      ]
     },
     "execution_count": 4,
     "metadata": {},
     "output_type": "execute_result"
    }
   ],
   "source": [
    "df.duplicated().sum()\n",
    "#no duplicated values in the combined dataset. we can proceed to the next step"
   ]
  },
  {
   "cell_type": "code",
   "execution_count": 5,
   "id": "3bc588c3-6f5a-4966-aa71-68edcc1f97f2",
   "metadata": {},
   "outputs": [
    {
     "data": {
      "text/plain": [
       "ride_id                    0\n",
       "rideable_type              0\n",
       "started_at                 0\n",
       "ended_at                   0\n",
       "start_station_name    875716\n",
       "start_station_id      875848\n",
       "end_station_name      929202\n",
       "end_station_id        929343\n",
       "start_lat                  0\n",
       "start_lng                  0\n",
       "end_lat                 6990\n",
       "end_lng                 6990\n",
       "member_casual              0\n",
       "dtype: int64"
      ]
     },
     "execution_count": 5,
     "metadata": {},
     "output_type": "execute_result"
    }
   ],
   "source": [
    "#Check for null values\n",
    "df.isnull().sum()"
   ]
  },
  {
   "cell_type": "code",
   "execution_count": 6,
   "id": "421efa02-6932-4685-bd00-75295f556cf3",
   "metadata": {},
   "outputs": [],
   "source": [
    "#Drop all rows with null values\n",
    "df.dropna(inplace=True)"
   ]
  },
  {
   "cell_type": "code",
   "execution_count": 7,
   "id": "8396648c-2d05-48c4-b3cb-ea19ff21e693",
   "metadata": {},
   "outputs": [
    {
     "data": {
      "text/plain": [
       "ride_id               0\n",
       "rideable_type         0\n",
       "started_at            0\n",
       "ended_at              0\n",
       "start_station_name    0\n",
       "start_station_id      0\n",
       "end_station_name      0\n",
       "end_station_id        0\n",
       "start_lat             0\n",
       "start_lng             0\n",
       "end_lat               0\n",
       "end_lng               0\n",
       "member_casual         0\n",
       "dtype: int64"
      ]
     },
     "execution_count": 7,
     "metadata": {},
     "output_type": "execute_result"
    }
   ],
   "source": [
    "#Verify that all null values have been removed\n",
    "df.isnull().sum()"
   ]
  },
  {
   "cell_type": "code",
   "execution_count": 8,
   "id": "f42ded44-c35d-4180-97ba-8b58a1879315",
   "metadata": {},
   "outputs": [
    {
     "name": "stdout",
     "output_type": "stream",
     "text": [
      "<class 'pandas.core.frame.DataFrame'>\n",
      "Index: 4331707 entries, 0 to 5719876\n",
      "Data columns (total 13 columns):\n",
      " #   Column              Dtype        \n",
      "---  ------              -----        \n",
      " 0   ride_id             object       \n",
      " 1   rideable_type       object       \n",
      " 2   started_at          datetime64[s]\n",
      " 3   ended_at            datetime64[s]\n",
      " 4   start_station_name  object       \n",
      " 5   start_station_id    object       \n",
      " 6   end_station_name    object       \n",
      " 7   end_station_id      object       \n",
      " 8   start_lat           float64      \n",
      " 9   start_lng           float64      \n",
      " 10  end_lat             float64      \n",
      " 11  end_lng             float64      \n",
      " 12  member_casual       object       \n",
      "dtypes: datetime64[s](2), float64(4), object(7)\n",
      "memory usage: 462.7+ MB\n"
     ]
    }
   ],
   "source": [
    "#convert the timestamp into date time\n",
    "df['started_at'] = df['started_at'].astype('datetime64[s]')\n",
    "df['ended_at'] = df['ended_at'].astype('datetime64[s]')\n",
    "df.info()"
   ]
  },
  {
   "cell_type": "code",
   "execution_count": 9,
   "id": "762d73d8-4f4e-4803-93ea-8110f1da7b5f",
   "metadata": {},
   "outputs": [
    {
     "data": {
      "text/html": [
       "<div>\n",
       "<style scoped>\n",
       "    .dataframe tbody tr th:only-of-type {\n",
       "        vertical-align: middle;\n",
       "    }\n",
       "\n",
       "    .dataframe tbody tr th {\n",
       "        vertical-align: top;\n",
       "    }\n",
       "\n",
       "    .dataframe thead th {\n",
       "        text-align: right;\n",
       "    }\n",
       "</style>\n",
       "<table border=\"1\" class=\"dataframe\">\n",
       "  <thead>\n",
       "    <tr style=\"text-align: right;\">\n",
       "      <th></th>\n",
       "      <th>ride_id</th>\n",
       "      <th>rideable_type</th>\n",
       "      <th>started_at</th>\n",
       "      <th>ended_at</th>\n",
       "      <th>start_station_name</th>\n",
       "      <th>start_station_id</th>\n",
       "      <th>end_station_name</th>\n",
       "      <th>end_station_id</th>\n",
       "      <th>start_lat</th>\n",
       "      <th>start_lng</th>\n",
       "      <th>end_lat</th>\n",
       "      <th>end_lng</th>\n",
       "      <th>member_casual</th>\n",
       "      <th>hour</th>\n",
       "      <th>date</th>\n",
       "      <th>day</th>\n",
       "      <th>month</th>\n",
       "    </tr>\n",
       "  </thead>\n",
       "  <tbody>\n",
       "    <tr>\n",
       "      <th>0</th>\n",
       "      <td>F96D5A74A3E41399</td>\n",
       "      <td>electric_bike</td>\n",
       "      <td>2023-01-21 20:05:42</td>\n",
       "      <td>2023-01-21 20:16:33</td>\n",
       "      <td>Lincoln Ave &amp; Fullerton Ave</td>\n",
       "      <td>TA1309000058</td>\n",
       "      <td>Hampden Ct &amp; Diversey Ave</td>\n",
       "      <td>202480.0</td>\n",
       "      <td>41.924074</td>\n",
       "      <td>-87.646278</td>\n",
       "      <td>41.930000</td>\n",
       "      <td>-87.640000</td>\n",
       "      <td>member</td>\n",
       "      <td>20</td>\n",
       "      <td>21</td>\n",
       "      <td>Saturday</td>\n",
       "      <td>January</td>\n",
       "    </tr>\n",
       "    <tr>\n",
       "      <th>1</th>\n",
       "      <td>13CB7EB698CEDB88</td>\n",
       "      <td>classic_bike</td>\n",
       "      <td>2023-01-10 15:37:36</td>\n",
       "      <td>2023-01-10 15:46:05</td>\n",
       "      <td>Kimbark Ave &amp; 53rd St</td>\n",
       "      <td>TA1309000037</td>\n",
       "      <td>Greenwood Ave &amp; 47th St</td>\n",
       "      <td>TA1308000002</td>\n",
       "      <td>41.799568</td>\n",
       "      <td>-87.594747</td>\n",
       "      <td>41.809835</td>\n",
       "      <td>-87.599383</td>\n",
       "      <td>member</td>\n",
       "      <td>15</td>\n",
       "      <td>10</td>\n",
       "      <td>Tuesday</td>\n",
       "      <td>January</td>\n",
       "    </tr>\n",
       "    <tr>\n",
       "      <th>2</th>\n",
       "      <td>BD88A2E670661CE5</td>\n",
       "      <td>electric_bike</td>\n",
       "      <td>2023-01-02 07:51:57</td>\n",
       "      <td>2023-01-02 08:05:11</td>\n",
       "      <td>Western Ave &amp; Lunt Ave</td>\n",
       "      <td>RP-005</td>\n",
       "      <td>Valli Produce - Evanston Plaza</td>\n",
       "      <td>599</td>\n",
       "      <td>42.008571</td>\n",
       "      <td>-87.690483</td>\n",
       "      <td>42.039742</td>\n",
       "      <td>-87.699413</td>\n",
       "      <td>casual</td>\n",
       "      <td>7</td>\n",
       "      <td>2</td>\n",
       "      <td>Monday</td>\n",
       "      <td>January</td>\n",
       "    </tr>\n",
       "    <tr>\n",
       "      <th>3</th>\n",
       "      <td>C90792D034FED968</td>\n",
       "      <td>classic_bike</td>\n",
       "      <td>2023-01-22 10:52:58</td>\n",
       "      <td>2023-01-22 11:01:44</td>\n",
       "      <td>Kimbark Ave &amp; 53rd St</td>\n",
       "      <td>TA1309000037</td>\n",
       "      <td>Greenwood Ave &amp; 47th St</td>\n",
       "      <td>TA1308000002</td>\n",
       "      <td>41.799568</td>\n",
       "      <td>-87.594747</td>\n",
       "      <td>41.809835</td>\n",
       "      <td>-87.599383</td>\n",
       "      <td>member</td>\n",
       "      <td>10</td>\n",
       "      <td>22</td>\n",
       "      <td>Sunday</td>\n",
       "      <td>January</td>\n",
       "    </tr>\n",
       "    <tr>\n",
       "      <th>4</th>\n",
       "      <td>3397017529188E8A</td>\n",
       "      <td>classic_bike</td>\n",
       "      <td>2023-01-12 13:58:01</td>\n",
       "      <td>2023-01-12 14:13:20</td>\n",
       "      <td>Kimbark Ave &amp; 53rd St</td>\n",
       "      <td>TA1309000037</td>\n",
       "      <td>Greenwood Ave &amp; 47th St</td>\n",
       "      <td>TA1308000002</td>\n",
       "      <td>41.799568</td>\n",
       "      <td>-87.594747</td>\n",
       "      <td>41.809835</td>\n",
       "      <td>-87.599383</td>\n",
       "      <td>member</td>\n",
       "      <td>13</td>\n",
       "      <td>12</td>\n",
       "      <td>Thursday</td>\n",
       "      <td>January</td>\n",
       "    </tr>\n",
       "  </tbody>\n",
       "</table>\n",
       "</div>"
      ],
      "text/plain": [
       "            ride_id  rideable_type          started_at            ended_at  \\\n",
       "0  F96D5A74A3E41399  electric_bike 2023-01-21 20:05:42 2023-01-21 20:16:33   \n",
       "1  13CB7EB698CEDB88   classic_bike 2023-01-10 15:37:36 2023-01-10 15:46:05   \n",
       "2  BD88A2E670661CE5  electric_bike 2023-01-02 07:51:57 2023-01-02 08:05:11   \n",
       "3  C90792D034FED968   classic_bike 2023-01-22 10:52:58 2023-01-22 11:01:44   \n",
       "4  3397017529188E8A   classic_bike 2023-01-12 13:58:01 2023-01-12 14:13:20   \n",
       "\n",
       "            start_station_name start_station_id  \\\n",
       "0  Lincoln Ave & Fullerton Ave     TA1309000058   \n",
       "1        Kimbark Ave & 53rd St     TA1309000037   \n",
       "2       Western Ave & Lunt Ave           RP-005   \n",
       "3        Kimbark Ave & 53rd St     TA1309000037   \n",
       "4        Kimbark Ave & 53rd St     TA1309000037   \n",
       "\n",
       "                 end_station_name end_station_id  start_lat  start_lng  \\\n",
       "0       Hampden Ct & Diversey Ave       202480.0  41.924074 -87.646278   \n",
       "1         Greenwood Ave & 47th St   TA1308000002  41.799568 -87.594747   \n",
       "2  Valli Produce - Evanston Plaza            599  42.008571 -87.690483   \n",
       "3         Greenwood Ave & 47th St   TA1308000002  41.799568 -87.594747   \n",
       "4         Greenwood Ave & 47th St   TA1308000002  41.799568 -87.594747   \n",
       "\n",
       "     end_lat    end_lng member_casual  hour  date       day    month  \n",
       "0  41.930000 -87.640000        member    20    21  Saturday  January  \n",
       "1  41.809835 -87.599383        member    15    10   Tuesday  January  \n",
       "2  42.039742 -87.699413        casual     7     2    Monday  January  \n",
       "3  41.809835 -87.599383        member    10    22    Sunday  January  \n",
       "4  41.809835 -87.599383        member    13    12  Thursday  January  "
      ]
     },
     "execution_count": 9,
     "metadata": {},
     "output_type": "execute_result"
    }
   ],
   "source": [
    "#Extracts and append the hour, date, day and month to new columns\n",
    "df['hour'] = df['started_at'].dt.hour\n",
    "df['date'] = df['started_at'].dt.day\n",
    "df['day'] = df['started_at'].dt.day_name()\n",
    "df['month'] = df['started_at'].dt.month_name()\n",
    "df.head()"
   ]
  },
  {
   "cell_type": "code",
   "execution_count": 10,
   "id": "c7837c93-f965-4d3d-89eb-c310d722351c",
   "metadata": {},
   "outputs": [
    {
     "data": {
      "text/html": [
       "<div>\n",
       "<style scoped>\n",
       "    .dataframe tbody tr th:only-of-type {\n",
       "        vertical-align: middle;\n",
       "    }\n",
       "\n",
       "    .dataframe tbody tr th {\n",
       "        vertical-align: top;\n",
       "    }\n",
       "\n",
       "    .dataframe thead th {\n",
       "        text-align: right;\n",
       "    }\n",
       "</style>\n",
       "<table border=\"1\" class=\"dataframe\">\n",
       "  <thead>\n",
       "    <tr style=\"text-align: right;\">\n",
       "      <th></th>\n",
       "      <th>ride_id</th>\n",
       "      <th>rideable_type</th>\n",
       "      <th>started_at</th>\n",
       "      <th>ended_at</th>\n",
       "      <th>start_station_name</th>\n",
       "      <th>start_station_id</th>\n",
       "      <th>end_station_name</th>\n",
       "      <th>end_station_id</th>\n",
       "      <th>start_lat</th>\n",
       "      <th>start_lng</th>\n",
       "      <th>end_lat</th>\n",
       "      <th>end_lng</th>\n",
       "      <th>member_casual</th>\n",
       "      <th>hour</th>\n",
       "      <th>date</th>\n",
       "      <th>day</th>\n",
       "      <th>month</th>\n",
       "      <th>duration</th>\n",
       "    </tr>\n",
       "  </thead>\n",
       "  <tbody>\n",
       "    <tr>\n",
       "      <th>0</th>\n",
       "      <td>F96D5A74A3E41399</td>\n",
       "      <td>electric_bike</td>\n",
       "      <td>2023-01-21 20:05:42</td>\n",
       "      <td>2023-01-21 20:16:33</td>\n",
       "      <td>Lincoln Ave &amp; Fullerton Ave</td>\n",
       "      <td>TA1309000058</td>\n",
       "      <td>Hampden Ct &amp; Diversey Ave</td>\n",
       "      <td>202480.0</td>\n",
       "      <td>41.924074</td>\n",
       "      <td>-87.646278</td>\n",
       "      <td>41.930000</td>\n",
       "      <td>-87.640000</td>\n",
       "      <td>member</td>\n",
       "      <td>20</td>\n",
       "      <td>21</td>\n",
       "      <td>Saturday</td>\n",
       "      <td>January</td>\n",
       "      <td>10.850000</td>\n",
       "    </tr>\n",
       "    <tr>\n",
       "      <th>1</th>\n",
       "      <td>13CB7EB698CEDB88</td>\n",
       "      <td>classic_bike</td>\n",
       "      <td>2023-01-10 15:37:36</td>\n",
       "      <td>2023-01-10 15:46:05</td>\n",
       "      <td>Kimbark Ave &amp; 53rd St</td>\n",
       "      <td>TA1309000037</td>\n",
       "      <td>Greenwood Ave &amp; 47th St</td>\n",
       "      <td>TA1308000002</td>\n",
       "      <td>41.799568</td>\n",
       "      <td>-87.594747</td>\n",
       "      <td>41.809835</td>\n",
       "      <td>-87.599383</td>\n",
       "      <td>member</td>\n",
       "      <td>15</td>\n",
       "      <td>10</td>\n",
       "      <td>Tuesday</td>\n",
       "      <td>January</td>\n",
       "      <td>8.483333</td>\n",
       "    </tr>\n",
       "    <tr>\n",
       "      <th>2</th>\n",
       "      <td>BD88A2E670661CE5</td>\n",
       "      <td>electric_bike</td>\n",
       "      <td>2023-01-02 07:51:57</td>\n",
       "      <td>2023-01-02 08:05:11</td>\n",
       "      <td>Western Ave &amp; Lunt Ave</td>\n",
       "      <td>RP-005</td>\n",
       "      <td>Valli Produce - Evanston Plaza</td>\n",
       "      <td>599</td>\n",
       "      <td>42.008571</td>\n",
       "      <td>-87.690483</td>\n",
       "      <td>42.039742</td>\n",
       "      <td>-87.699413</td>\n",
       "      <td>casual</td>\n",
       "      <td>7</td>\n",
       "      <td>2</td>\n",
       "      <td>Monday</td>\n",
       "      <td>January</td>\n",
       "      <td>13.233333</td>\n",
       "    </tr>\n",
       "    <tr>\n",
       "      <th>3</th>\n",
       "      <td>C90792D034FED968</td>\n",
       "      <td>classic_bike</td>\n",
       "      <td>2023-01-22 10:52:58</td>\n",
       "      <td>2023-01-22 11:01:44</td>\n",
       "      <td>Kimbark Ave &amp; 53rd St</td>\n",
       "      <td>TA1309000037</td>\n",
       "      <td>Greenwood Ave &amp; 47th St</td>\n",
       "      <td>TA1308000002</td>\n",
       "      <td>41.799568</td>\n",
       "      <td>-87.594747</td>\n",
       "      <td>41.809835</td>\n",
       "      <td>-87.599383</td>\n",
       "      <td>member</td>\n",
       "      <td>10</td>\n",
       "      <td>22</td>\n",
       "      <td>Sunday</td>\n",
       "      <td>January</td>\n",
       "      <td>8.766667</td>\n",
       "    </tr>\n",
       "    <tr>\n",
       "      <th>4</th>\n",
       "      <td>3397017529188E8A</td>\n",
       "      <td>classic_bike</td>\n",
       "      <td>2023-01-12 13:58:01</td>\n",
       "      <td>2023-01-12 14:13:20</td>\n",
       "      <td>Kimbark Ave &amp; 53rd St</td>\n",
       "      <td>TA1309000037</td>\n",
       "      <td>Greenwood Ave &amp; 47th St</td>\n",
       "      <td>TA1308000002</td>\n",
       "      <td>41.799568</td>\n",
       "      <td>-87.594747</td>\n",
       "      <td>41.809835</td>\n",
       "      <td>-87.599383</td>\n",
       "      <td>member</td>\n",
       "      <td>13</td>\n",
       "      <td>12</td>\n",
       "      <td>Thursday</td>\n",
       "      <td>January</td>\n",
       "      <td>15.316667</td>\n",
       "    </tr>\n",
       "  </tbody>\n",
       "</table>\n",
       "</div>"
      ],
      "text/plain": [
       "            ride_id  rideable_type          started_at            ended_at  \\\n",
       "0  F96D5A74A3E41399  electric_bike 2023-01-21 20:05:42 2023-01-21 20:16:33   \n",
       "1  13CB7EB698CEDB88   classic_bike 2023-01-10 15:37:36 2023-01-10 15:46:05   \n",
       "2  BD88A2E670661CE5  electric_bike 2023-01-02 07:51:57 2023-01-02 08:05:11   \n",
       "3  C90792D034FED968   classic_bike 2023-01-22 10:52:58 2023-01-22 11:01:44   \n",
       "4  3397017529188E8A   classic_bike 2023-01-12 13:58:01 2023-01-12 14:13:20   \n",
       "\n",
       "            start_station_name start_station_id  \\\n",
       "0  Lincoln Ave & Fullerton Ave     TA1309000058   \n",
       "1        Kimbark Ave & 53rd St     TA1309000037   \n",
       "2       Western Ave & Lunt Ave           RP-005   \n",
       "3        Kimbark Ave & 53rd St     TA1309000037   \n",
       "4        Kimbark Ave & 53rd St     TA1309000037   \n",
       "\n",
       "                 end_station_name end_station_id  start_lat  start_lng  \\\n",
       "0       Hampden Ct & Diversey Ave       202480.0  41.924074 -87.646278   \n",
       "1         Greenwood Ave & 47th St   TA1308000002  41.799568 -87.594747   \n",
       "2  Valli Produce - Evanston Plaza            599  42.008571 -87.690483   \n",
       "3         Greenwood Ave & 47th St   TA1308000002  41.799568 -87.594747   \n",
       "4         Greenwood Ave & 47th St   TA1308000002  41.799568 -87.594747   \n",
       "\n",
       "     end_lat    end_lng member_casual  hour  date       day    month  \\\n",
       "0  41.930000 -87.640000        member    20    21  Saturday  January   \n",
       "1  41.809835 -87.599383        member    15    10   Tuesday  January   \n",
       "2  42.039742 -87.699413        casual     7     2    Monday  January   \n",
       "3  41.809835 -87.599383        member    10    22    Sunday  January   \n",
       "4  41.809835 -87.599383        member    13    12  Thursday  January   \n",
       "\n",
       "    duration  \n",
       "0  10.850000  \n",
       "1   8.483333  \n",
       "2  13.233333  \n",
       "3   8.766667  \n",
       "4  15.316667  "
      ]
     },
     "execution_count": 10,
     "metadata": {},
     "output_type": "execute_result"
    }
   ],
   "source": [
    "#Calculate the duration of each ride in minutes\n",
    "df['duration'] = (df['ended_at'] - df['started_at'])/pd.Timedelta(minutes=1)\n",
    "df.head()"
   ]
  },
  {
   "cell_type": "code",
   "execution_count": 11,
   "id": "4c532f4f-4047-4a69-91ef-cb7d9ceff807",
   "metadata": {},
   "outputs": [
    {
     "data": {
      "text/plain": [
       "ride_id               569\n",
       "rideable_type         569\n",
       "started_at            569\n",
       "ended_at              569\n",
       "start_station_name    569\n",
       "start_station_id      569\n",
       "end_station_name      569\n",
       "end_station_id        569\n",
       "start_lat             569\n",
       "start_lng             569\n",
       "end_lat               569\n",
       "end_lng               569\n",
       "member_casual         569\n",
       "hour                  569\n",
       "date                  569\n",
       "day                   569\n",
       "month                 569\n",
       "duration              569\n",
       "dtype: int64"
      ]
     },
     "execution_count": 11,
     "metadata": {},
     "output_type": "execute_result"
    }
   ],
   "source": [
    "#Check for negative duration\n",
    "df[df['duration'] <= 0].count()"
   ]
  },
  {
   "cell_type": "markdown",
   "id": "2b23f8fa-245f-44ea-b824-7e14d44c8ad3",
   "metadata": {},
   "source": [
    "Clearly there should not be legitimate rides which log 0 or less minutes, hence these are removed."
   ]
  },
  {
   "cell_type": "code",
   "execution_count": 12,
   "id": "482e85f3-dfc3-4b09-87b6-ef9161cd633a",
   "metadata": {},
   "outputs": [],
   "source": [
    "#Drop rows with negative duration\n",
    "df.drop(df[df['duration'] <= 0].index, inplace=True)"
   ]
  },
  {
   "cell_type": "code",
   "execution_count": 13,
   "id": "00bba27a-7baf-4828-a106-c25a63cdbc8f",
   "metadata": {},
   "outputs": [
    {
     "data": {
      "text/plain": [
       "ride_id               0\n",
       "rideable_type         0\n",
       "started_at            0\n",
       "ended_at              0\n",
       "start_station_name    0\n",
       "start_station_id      0\n",
       "end_station_name      0\n",
       "end_station_id        0\n",
       "start_lat             0\n",
       "start_lng             0\n",
       "end_lat               0\n",
       "end_lng               0\n",
       "member_casual         0\n",
       "hour                  0\n",
       "date                  0\n",
       "day                   0\n",
       "month                 0\n",
       "duration              0\n",
       "dtype: int64"
      ]
     },
     "execution_count": 13,
     "metadata": {},
     "output_type": "execute_result"
    }
   ],
   "source": [
    "#Verify that no rows with negative duration remain\n",
    "df[df['duration'] <= 0].count()"
   ]
  },
  {
   "cell_type": "markdown",
   "id": "44151220-cf09-4d2a-9126-91b054d5769d",
   "metadata": {},
   "source": [
    "Calling the information for the 'duration' column as I do suspect that there are ride durations that do not seem realistic.\n",
    "\n",
    "* for instance rides that are between 0 minutes to less than a minute long\n",
    "* for instance rides that are over a day long"
   ]
  },
  {
   "cell_type": "code",
   "execution_count": 14,
   "id": "7ecb0abf-af2f-4331-8561-7729bc4eef62",
   "metadata": {},
   "outputs": [
    {
     "data": {
      "text/plain": [
       "count   4331138.00\n",
       "mean         15.95\n",
       "std          36.09\n",
       "min           0.02\n",
       "25%           5.62\n",
       "50%           9.80\n",
       "75%          17.48\n",
       "max       12136.30\n",
       "Name: duration, dtype: float64"
      ]
     },
     "execution_count": 14,
     "metadata": {},
     "output_type": "execute_result"
    }
   ],
   "source": [
    "pd.set_option('display.float_format', lambda x: '%.2f' % x)\n",
    "df['duration'].describe()"
   ]
  },
  {
   "cell_type": "markdown",
   "id": "1341aacc-dc8c-46e1-99e4-7d294d03a3fe",
   "metadata": {},
   "source": [
    "As expected, there are data which do not seem realistic. \n",
    "\n",
    "For instance, the shortest ride duration is only 0.02 minutes long, and the longest is at a whooping 12,136 minutes long. Let's have a closer look at the data by plotting it out."
   ]
  },
  {
   "cell_type": "code",
   "execution_count": 15,
   "id": "60cea6aa-2ca8-46e0-a7cc-90f8e533d110",
   "metadata": {},
   "outputs": [
    {
     "data": {
      "image/png": "[encoded data removed]",
      "text/plain": [
       "<Figure size 640x480 with 1 Axes>"
      ]
     },
     "metadata": {},
     "output_type": "display_data"
    }
   ],
   "source": [
    "#Histogram plot of duration after dropping rows with non-legitimate duration lengths\n",
    "sns.histplot(df['duration'], kde=False)\n",
    "plt.xlabel('Duration (minutes)')\n",
    "plt.ylabel('Frequency')\n",
    "plt.show()"
   ]
  },
  {
   "cell_type": "markdown",
   "id": "ed15f00f-2dad-4359-857b-851f433382c0",
   "metadata": {},
   "source": [
    "The histogram plot does not tell us much about the outliers, but we can see that the largest value on the x axis is 12000 minutes. Let's take a closer look by plotting the scatterplot of frequency vs duration."
   ]
  },
  {
   "cell_type": "code",
   "execution_count": 16,
   "id": "85e82c79-b4cd-48d3-aaac-cd02062105bc",
   "metadata": {},
   "outputs": [
    {
     "data": {
      "image/png": "[encoded data removed]",
      "text/plain": [
       "<Figure size 640x480 with 1 Axes>"
      ]
     },
     "metadata": {},
     "output_type": "display_data"
    }
   ],
   "source": [
    "#Frequency count for each duration\n",
    "duration_counts = df['duration'].value_counts().sort_index()\n",
    "\n",
    "#Plot scatterplot\n",
    "sns.scatterplot(data=duration_counts, x=duration_counts.index, y=duration_counts.values)\n",
    "plt.xlabel('Duration (minutes)')\n",
    "plt.ylabel('Frequency')\n",
    "plt.show()"
   ]
  },
  {
   "cell_type": "markdown",
   "id": "cd623da7-d260-4627-9c1b-dc84b5aca7a3",
   "metadata": {},
   "source": [
    "Drop duration values that are less than a minute long (not realistic) and over a day (1440 minutes) long. (outliers)"
   ]
  },
  {
   "cell_type": "code",
   "execution_count": 17,
   "id": "a6706d16-73a0-4f9c-8e1f-7afe161be661",
   "metadata": {},
   "outputs": [],
   "source": [
    "df.drop(df[(df['duration'] < 1) | (df['duration'] > 1440)].index, inplace=True)"
   ]
  },
  {
   "cell_type": "code",
   "execution_count": 28,
   "id": "f96de114-8ead-44b6-8edc-0c99ce48acd9",
   "metadata": {},
   "outputs": [
    {
     "data": {
      "image/png": "[encoded data removed]",
      "text/plain": [
       "<Figure size 640x480 with 1 Axes>"
      ]
     },
     "metadata": {},
     "output_type": "display_data"
    }
   ],
   "source": [
    "#Histogram plot of duration after dropping unrealistic durations and outliers\n",
    "sns.histplot(df['duration'], binwidth=2, kde=False)\n",
    "plt.xlabel('Duration (minutes)')\n",
    "plt.ylabel('Frequency')\n",
    "plt.show()"
   ]
  },
  {
   "cell_type": "code",
   "execution_count": 20,
   "id": "86673b38-4d73-4c66-be9e-f978afdec352",
   "metadata": {},
   "outputs": [
    {
     "data": {
      "image/png": "[encoded data removed]",
      "text/plain": [
       "<Figure size 640x480 with 1 Axes>"
      ]
     },
     "metadata": {},
     "output_type": "display_data"
    }
   ],
   "source": [
    "#Scatterplot of duration after dropping unrealistic durations and outliers\n",
    "\n",
    "#Frequency count for each duration\n",
    "duration_counts = df['duration'].value_counts().sort_index()\n",
    "\n",
    "#Plot scatterplot\n",
    "sns.scatterplot(data=duration_counts, x=duration_counts.index, y=duration_counts.values)\n",
    "plt.xlabel('Duration (minutes)')\n",
    "plt.ylabel('Frequency')\n",
    "plt.show()"
   ]
  },
  {
   "cell_type": "markdown",
   "id": "90223446-2871-42f8-97d1-f6efbc710fc7",
   "metadata": {},
   "source": [
    "The plots do look slightly better, but it still skews heavily to the left and the bulk of the data is concentrated between 1 to 100 minutes long. Additionally, there is still outlier data even after removing rides that are non-legitimate. \n",
    "\n",
    "Let's look into the description and frequency count of the duration column after non-legitimate ride values are dropped."
   ]
  },
  {
   "cell_type": "code",
   "execution_count": 24,
   "id": "3ce07fac-df01-4cc2-980a-3b4314a36005",
   "metadata": {},
   "outputs": [
    {
     "data": {
      "text/plain": [
       "count   4244056.00\n",
       "mean         16.22\n",
       "std          34.12\n",
       "min           1.00\n",
       "25%           5.83\n",
       "50%          10.02\n",
       "75%          17.73\n",
       "max        1439.87\n",
       "Name: duration, dtype: float64"
      ]
     },
     "execution_count": 24,
     "metadata": {},
     "output_type": "execute_result"
    }
   ],
   "source": [
    "df['duration'].describe()"
   ]
  },
  {
   "cell_type": "code",
   "execution_count": 38,
   "id": "d26ed10a-4ca0-4b80-b38b-ec35c8e9e795",
   "metadata": {},
   "outputs": [
    {
     "name": "stdout",
     "output_type": "stream",
     "text": [
      "duration\n",
      "200.02     2\n",
      "200.03     2\n",
      "200.07     2\n",
      "200.10     1\n",
      "200.12     2\n",
      "          ..\n",
      "1436.80    1\n",
      "1436.97    1\n",
      "1437.68    1\n",
      "1439.25    1\n",
      "1439.87    1\n",
      "Name: count, Length: 8351, dtype: int64\n"
     ]
    }
   ],
   "source": [
    "duration_counts_info = df['duration'].value_counts().sort_index()[lambda x: x.index > 200]\n",
    "print(duration_counts_info)"
   ]
  },
  {
   "cell_type": "code",
   "execution_count": 39,
   "id": "101adf62-7342-402e-977f-f2f758700a78",
   "metadata": {},
   "outputs": [
    {
     "name": "stdout",
     "output_type": "stream",
     "text": [
      "9774\n"
     ]
    }
   ],
   "source": [
    "duration_counts_info_sum = df['duration'].value_counts().sort_index()[lambda x: x.index > 200].sum()\n",
    "print(duration_counts_info_sum)"
   ]
  },
  {
   "cell_type": "markdown",
   "id": "da828f6f-1727-4645-aef3-2446c9b8bb82",
   "metadata": {},
   "source": [
    "Since the dataset is huge (4.2 million rows), with the bulk of the rides logged having a duration of <= 200 minutes, and only ~10k rows of data (0.23%) being greater than 200 minutes long, we can go ahead to remove rides that are longer than 200 minutes long without affecting the integrity of the overall dataset."
   ]
  },
  {
   "cell_type": "code",
   "execution_count": 40,
   "id": "9a7f20b7-5290-40e9-81cd-3269edb1b47f",
   "metadata": {},
   "outputs": [],
   "source": [
    "df.drop(df[(df['duration'] > 200)].index, inplace=True)"
   ]
  },
  {
   "cell_type": "code",
   "execution_count": 41,
   "id": "45e43b16-2a40-4e12-9e8c-cc9f25b98b3b",
   "metadata": {},
   "outputs": [
    {
     "data": {
      "image/png": "[encoded data removed]",
      "text/plain": [
       "<Figure size 640x480 with 1 Axes>"
      ]
     },
     "metadata": {},
     "output_type": "display_data"
    }
   ],
   "source": [
    "#Histogram plot of duration after dropping rides > 200 mins long\n",
    "sns.histplot(df['duration'], kde=False)\n",
    "plt.xlabel('Duration (minutes)')\n",
    "plt.ylabel('Frequency')\n",
    "plt.show()"
   ]
  },
  {
   "cell_type": "code",
   "execution_count": 42,
   "id": "88971936-8bc0-4b0e-b24a-b26f9b43cb29",
   "metadata": {},
   "outputs": [
    {
     "data": {
      "text/plain": [
       "count   4234282.00\n",
       "mean         15.04\n",
       "std          16.99\n",
       "min           1.00\n",
       "25%           5.83\n",
       "50%           9.98\n",
       "75%          17.65\n",
       "max         200.00\n",
       "Name: duration, dtype: float64"
      ]
     },
     "execution_count": 42,
     "metadata": {},
     "output_type": "execute_result"
    }
   ],
   "source": [
    "df['duration'].describe()"
   ]
  },
  {
   "cell_type": "markdown",
   "id": "bc8ffe68-1073-4a09-966e-6967a264fc70",
   "metadata": {},
   "source": [
    "From the histogram plot, it looks much better, and we can proceed to create and export the new data set since there are certain columns that I do not want included in the data set that I'll be using for analysis."
   ]
  },
  {
   "cell_type": "markdown",
   "id": "10fa0002-6b6c-4687-9f01-5461e986ba14",
   "metadata": {},
   "source": [
    "# Create new dataframe in order to analyse ride duration"
   ]
  },
  {
   "cell_type": "code",
   "execution_count": 43,
   "id": "696cf05a-9c2f-47cc-bb82-2c322588d331",
   "metadata": {},
   "outputs": [
    {
     "data": {
      "text/html": [
       "<div>\n",
       "<style scoped>\n",
       "    .dataframe tbody tr th:only-of-type {\n",
       "        vertical-align: middle;\n",
       "    }\n",
       "\n",
       "    .dataframe tbody tr th {\n",
       "        vertical-align: top;\n",
       "    }\n",
       "\n",
       "    .dataframe thead th {\n",
       "        text-align: right;\n",
       "    }\n",
       "</style>\n",
       "<table border=\"1\" class=\"dataframe\">\n",
       "  <thead>\n",
       "    <tr style=\"text-align: right;\">\n",
       "      <th></th>\n",
       "      <th>ride_id</th>\n",
       "      <th>rideable_type</th>\n",
       "      <th>started_at</th>\n",
       "      <th>ended_at</th>\n",
       "      <th>start_station_name</th>\n",
       "      <th>end_station_name</th>\n",
       "      <th>start_lat</th>\n",
       "      <th>start_lng</th>\n",
       "      <th>end_lat</th>\n",
       "      <th>end_lng</th>\n",
       "      <th>duration</th>\n",
       "      <th>hour</th>\n",
       "      <th>date</th>\n",
       "      <th>day</th>\n",
       "      <th>month</th>\n",
       "      <th>member_casual</th>\n",
       "    </tr>\n",
       "  </thead>\n",
       "  <tbody>\n",
       "    <tr>\n",
       "      <th>0</th>\n",
       "      <td>F96D5A74A3E41399</td>\n",
       "      <td>electric_bike</td>\n",
       "      <td>2023-01-21 20:05:42</td>\n",
       "      <td>2023-01-21 20:16:33</td>\n",
       "      <td>Lincoln Ave &amp; Fullerton Ave</td>\n",
       "      <td>Hampden Ct &amp; Diversey Ave</td>\n",
       "      <td>41.92</td>\n",
       "      <td>-87.65</td>\n",
       "      <td>41.93</td>\n",
       "      <td>-87.64</td>\n",
       "      <td>10.85</td>\n",
       "      <td>20</td>\n",
       "      <td>21</td>\n",
       "      <td>Saturday</td>\n",
       "      <td>January</td>\n",
       "      <td>member</td>\n",
       "    </tr>\n",
       "    <tr>\n",
       "      <th>1</th>\n",
       "      <td>13CB7EB698CEDB88</td>\n",
       "      <td>classic_bike</td>\n",
       "      <td>2023-01-10 15:37:36</td>\n",
       "      <td>2023-01-10 15:46:05</td>\n",
       "      <td>Kimbark Ave &amp; 53rd St</td>\n",
       "      <td>Greenwood Ave &amp; 47th St</td>\n",
       "      <td>41.80</td>\n",
       "      <td>-87.59</td>\n",
       "      <td>41.81</td>\n",
       "      <td>-87.60</td>\n",
       "      <td>8.48</td>\n",
       "      <td>15</td>\n",
       "      <td>10</td>\n",
       "      <td>Tuesday</td>\n",
       "      <td>January</td>\n",
       "      <td>member</td>\n",
       "    </tr>\n",
       "    <tr>\n",
       "      <th>2</th>\n",
       "      <td>BD88A2E670661CE5</td>\n",
       "      <td>electric_bike</td>\n",
       "      <td>2023-01-02 07:51:57</td>\n",
       "      <td>2023-01-02 08:05:11</td>\n",
       "      <td>Western Ave &amp; Lunt Ave</td>\n",
       "      <td>Valli Produce - Evanston Plaza</td>\n",
       "      <td>42.01</td>\n",
       "      <td>-87.69</td>\n",
       "      <td>42.04</td>\n",
       "      <td>-87.70</td>\n",
       "      <td>13.23</td>\n",
       "      <td>7</td>\n",
       "      <td>2</td>\n",
       "      <td>Monday</td>\n",
       "      <td>January</td>\n",
       "      <td>casual</td>\n",
       "    </tr>\n",
       "    <tr>\n",
       "      <th>3</th>\n",
       "      <td>C90792D034FED968</td>\n",
       "      <td>classic_bike</td>\n",
       "      <td>2023-01-22 10:52:58</td>\n",
       "      <td>2023-01-22 11:01:44</td>\n",
       "      <td>Kimbark Ave &amp; 53rd St</td>\n",
       "      <td>Greenwood Ave &amp; 47th St</td>\n",
       "      <td>41.80</td>\n",
       "      <td>-87.59</td>\n",
       "      <td>41.81</td>\n",
       "      <td>-87.60</td>\n",
       "      <td>8.77</td>\n",
       "      <td>10</td>\n",
       "      <td>22</td>\n",
       "      <td>Sunday</td>\n",
       "      <td>January</td>\n",
       "      <td>member</td>\n",
       "    </tr>\n",
       "    <tr>\n",
       "      <th>4</th>\n",
       "      <td>3397017529188E8A</td>\n",
       "      <td>classic_bike</td>\n",
       "      <td>2023-01-12 13:58:01</td>\n",
       "      <td>2023-01-12 14:13:20</td>\n",
       "      <td>Kimbark Ave &amp; 53rd St</td>\n",
       "      <td>Greenwood Ave &amp; 47th St</td>\n",
       "      <td>41.80</td>\n",
       "      <td>-87.59</td>\n",
       "      <td>41.81</td>\n",
       "      <td>-87.60</td>\n",
       "      <td>15.32</td>\n",
       "      <td>13</td>\n",
       "      <td>12</td>\n",
       "      <td>Thursday</td>\n",
       "      <td>January</td>\n",
       "      <td>member</td>\n",
       "    </tr>\n",
       "    <tr>\n",
       "      <th>...</th>\n",
       "      <td>...</td>\n",
       "      <td>...</td>\n",
       "      <td>...</td>\n",
       "      <td>...</td>\n",
       "      <td>...</td>\n",
       "      <td>...</td>\n",
       "      <td>...</td>\n",
       "      <td>...</td>\n",
       "      <td>...</td>\n",
       "      <td>...</td>\n",
       "      <td>...</td>\n",
       "      <td>...</td>\n",
       "      <td>...</td>\n",
       "      <td>...</td>\n",
       "      <td>...</td>\n",
       "      <td>...</td>\n",
       "    </tr>\n",
       "    <tr>\n",
       "      <th>5719872</th>\n",
       "      <td>F74DF9549B504A6B</td>\n",
       "      <td>electric_bike</td>\n",
       "      <td>2023-12-07 13:15:24</td>\n",
       "      <td>2023-12-07 13:17:37</td>\n",
       "      <td>900 W Harrison St</td>\n",
       "      <td>Racine Ave &amp; Congress Pkwy</td>\n",
       "      <td>41.87</td>\n",
       "      <td>-87.65</td>\n",
       "      <td>41.87</td>\n",
       "      <td>-87.66</td>\n",
       "      <td>2.22</td>\n",
       "      <td>13</td>\n",
       "      <td>7</td>\n",
       "      <td>Thursday</td>\n",
       "      <td>December</td>\n",
       "      <td>casual</td>\n",
       "    </tr>\n",
       "    <tr>\n",
       "      <th>5719873</th>\n",
       "      <td>BCDA66E761CC1029</td>\n",
       "      <td>classic_bike</td>\n",
       "      <td>2023-12-08 18:42:21</td>\n",
       "      <td>2023-12-08 18:45:56</td>\n",
       "      <td>900 W Harrison St</td>\n",
       "      <td>Racine Ave &amp; Congress Pkwy</td>\n",
       "      <td>41.87</td>\n",
       "      <td>-87.65</td>\n",
       "      <td>41.87</td>\n",
       "      <td>-87.66</td>\n",
       "      <td>3.58</td>\n",
       "      <td>18</td>\n",
       "      <td>8</td>\n",
       "      <td>Friday</td>\n",
       "      <td>December</td>\n",
       "      <td>casual</td>\n",
       "    </tr>\n",
       "    <tr>\n",
       "      <th>5719874</th>\n",
       "      <td>D2CF330F9C266683</td>\n",
       "      <td>classic_bike</td>\n",
       "      <td>2023-12-05 14:09:11</td>\n",
       "      <td>2023-12-05 14:13:01</td>\n",
       "      <td>900 W Harrison St</td>\n",
       "      <td>Racine Ave &amp; Congress Pkwy</td>\n",
       "      <td>41.87</td>\n",
       "      <td>-87.65</td>\n",
       "      <td>41.87</td>\n",
       "      <td>-87.66</td>\n",
       "      <td>3.83</td>\n",
       "      <td>14</td>\n",
       "      <td>5</td>\n",
       "      <td>Tuesday</td>\n",
       "      <td>December</td>\n",
       "      <td>member</td>\n",
       "    </tr>\n",
       "    <tr>\n",
       "      <th>5719875</th>\n",
       "      <td>3829A0D1E00EE970</td>\n",
       "      <td>electric_bike</td>\n",
       "      <td>2023-12-02 21:36:07</td>\n",
       "      <td>2023-12-02 21:53:45</td>\n",
       "      <td>Damen Ave &amp; Madison St</td>\n",
       "      <td>Morgan St &amp; Lake St*</td>\n",
       "      <td>41.88</td>\n",
       "      <td>-87.67</td>\n",
       "      <td>41.89</td>\n",
       "      <td>-87.65</td>\n",
       "      <td>17.63</td>\n",
       "      <td>21</td>\n",
       "      <td>2</td>\n",
       "      <td>Saturday</td>\n",
       "      <td>December</td>\n",
       "      <td>casual</td>\n",
       "    </tr>\n",
       "    <tr>\n",
       "      <th>5719876</th>\n",
       "      <td>A373F5B447AEA508</td>\n",
       "      <td>classic_bike</td>\n",
       "      <td>2023-12-11 13:07:46</td>\n",
       "      <td>2023-12-11 13:11:24</td>\n",
       "      <td>900 W Harrison St</td>\n",
       "      <td>Racine Ave &amp; Congress Pkwy</td>\n",
       "      <td>41.87</td>\n",
       "      <td>-87.65</td>\n",
       "      <td>41.87</td>\n",
       "      <td>-87.66</td>\n",
       "      <td>3.63</td>\n",
       "      <td>13</td>\n",
       "      <td>11</td>\n",
       "      <td>Monday</td>\n",
       "      <td>December</td>\n",
       "      <td>member</td>\n",
       "    </tr>\n",
       "  </tbody>\n",
       "</table>\n",
       "<p>4234282 rows × 16 columns</p>\n",
       "</div>"
      ],
      "text/plain": [
       "                  ride_id  rideable_type          started_at  \\\n",
       "0        F96D5A74A3E41399  electric_bike 2023-01-21 20:05:42   \n",
       "1        13CB7EB698CEDB88   classic_bike 2023-01-10 15:37:36   \n",
       "2        BD88A2E670661CE5  electric_bike 2023-01-02 07:51:57   \n",
       "3        C90792D034FED968   classic_bike 2023-01-22 10:52:58   \n",
       "4        3397017529188E8A   classic_bike 2023-01-12 13:58:01   \n",
       "...                   ...            ...                 ...   \n",
       "5719872  F74DF9549B504A6B  electric_bike 2023-12-07 13:15:24   \n",
       "5719873  BCDA66E761CC1029   classic_bike 2023-12-08 18:42:21   \n",
       "5719874  D2CF330F9C266683   classic_bike 2023-12-05 14:09:11   \n",
       "5719875  3829A0D1E00EE970  electric_bike 2023-12-02 21:36:07   \n",
       "5719876  A373F5B447AEA508   classic_bike 2023-12-11 13:07:46   \n",
       "\n",
       "                   ended_at           start_station_name  \\\n",
       "0       2023-01-21 20:16:33  Lincoln Ave & Fullerton Ave   \n",
       "1       2023-01-10 15:46:05        Kimbark Ave & 53rd St   \n",
       "2       2023-01-02 08:05:11       Western Ave & Lunt Ave   \n",
       "3       2023-01-22 11:01:44        Kimbark Ave & 53rd St   \n",
       "4       2023-01-12 14:13:20        Kimbark Ave & 53rd St   \n",
       "...                     ...                          ...   \n",
       "5719872 2023-12-07 13:17:37            900 W Harrison St   \n",
       "5719873 2023-12-08 18:45:56            900 W Harrison St   \n",
       "5719874 2023-12-05 14:13:01            900 W Harrison St   \n",
       "5719875 2023-12-02 21:53:45       Damen Ave & Madison St   \n",
       "5719876 2023-12-11 13:11:24            900 W Harrison St   \n",
       "\n",
       "                       end_station_name  start_lat  start_lng  end_lat  \\\n",
       "0             Hampden Ct & Diversey Ave      41.92     -87.65    41.93   \n",
       "1               Greenwood Ave & 47th St      41.80     -87.59    41.81   \n",
       "2        Valli Produce - Evanston Plaza      42.01     -87.69    42.04   \n",
       "3               Greenwood Ave & 47th St      41.80     -87.59    41.81   \n",
       "4               Greenwood Ave & 47th St      41.80     -87.59    41.81   \n",
       "...                                 ...        ...        ...      ...   \n",
       "5719872      Racine Ave & Congress Pkwy      41.87     -87.65    41.87   \n",
       "5719873      Racine Ave & Congress Pkwy      41.87     -87.65    41.87   \n",
       "5719874      Racine Ave & Congress Pkwy      41.87     -87.65    41.87   \n",
       "5719875            Morgan St & Lake St*      41.88     -87.67    41.89   \n",
       "5719876      Racine Ave & Congress Pkwy      41.87     -87.65    41.87   \n",
       "\n",
       "         end_lng  duration  hour  date       day     month member_casual  \n",
       "0         -87.64     10.85    20    21  Saturday   January        member  \n",
       "1         -87.60      8.48    15    10   Tuesday   January        member  \n",
       "2         -87.70     13.23     7     2    Monday   January        casual  \n",
       "3         -87.60      8.77    10    22    Sunday   January        member  \n",
       "4         -87.60     15.32    13    12  Thursday   January        member  \n",
       "...          ...       ...   ...   ...       ...       ...           ...  \n",
       "5719872   -87.66      2.22    13     7  Thursday  December        casual  \n",
       "5719873   -87.66      3.58    18     8    Friday  December        casual  \n",
       "5719874   -87.66      3.83    14     5   Tuesday  December        member  \n",
       "5719875   -87.65     17.63    21     2  Saturday  December        casual  \n",
       "5719876   -87.66      3.63    13    11    Monday  December        member  \n",
       "\n",
       "[4234282 rows x 16 columns]"
      ]
     },
     "execution_count": 43,
     "metadata": {},
     "output_type": "execute_result"
    }
   ],
   "source": [
    "#Create a separate dataset without the start and end station ids\n",
    "#the start and end stations (names, ids and locations) are not required here, but I do not want to drop it from the original dataframe\n",
    "station_id_removed_df = df[['ride_id','rideable_type','started_at','ended_at','start_station_name','end_station_name','start_lat','start_lng','end_lat','end_lng','duration','hour','date','day','month','member_casual']]\n",
    "station_id_removed_df"
   ]
  },
  {
   "cell_type": "code",
   "execution_count": 45,
   "id": "ebdd9531-7483-4339-bba1-20e5e7afc492",
   "metadata": {},
   "outputs": [],
   "source": [
    "#export the dataframe to csv\n",
    "station_id_removed_df.to_csv(r'/Users/jasmine/Documents/GoogleDataAnalytics/Course8/CS1_cyclistic/CyclisticData/csv/combined_cyclistic_data_cleaned.csv', index=False)"
   ]
  }
 ],
 "metadata": {
  "kernelspec": {
   "display_name": "Python 3 (ipykernel)",
   "language": "python",
   "name": "python3"
  },
  "language_info": {
   "codemirror_mode": {
    "name": "ipython",
    "version": 3
   },
   "file_extension": ".py",
   "mimetype": "text/x-python",
   "name": "python",
   "nbconvert_exporter": "python",
   "pygments_lexer": "ipython3",
   "version": "3.11.5"
  }
 },
 "nbformat": 4,
 "nbformat_minor": 5
}
