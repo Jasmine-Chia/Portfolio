{
 "cells": [
  {
   "cell_type": "code",
   "execution_count": 1,
   "id": "c7a2c047-3e55-4ad1-98b1-fe60fba23b15",
   "metadata": {},
   "outputs": [],
   "source": [
    "import pandas as pd"
   ]
  },
  {
   "cell_type": "code",
   "execution_count": 2,
   "id": "8c713839-a9d4-43ab-83ab-47d9f172b2ac",
   "metadata": {},
   "outputs": [],
   "source": [
    "file_paths = [\n",
    "    '/Users/jasmine/Documents/GoogleDataAnalytics/Course8/CS1_cyclistic/CyclisticData/csv/202301-divvy-tripdata.csv',\n",
    "    '/Users/jasmine/Documents/GoogleDataAnalytics/Course8/CS1_cyclistic/CyclisticData/csv/202302-divvy-tripdata.csv',\n",
    "    '/Users/jasmine/Documents/GoogleDataAnalytics/Course8/CS1_cyclistic/CyclisticData/csv/202303-divvy-tripdata.csv',\n",
    "    '/Users/jasmine/Documents/GoogleDataAnalytics/Course8/CS1_cyclistic/CyclisticData/csv/202304-divvy-tripdata.csv',\n",
    "    '/Users/jasmine/Documents/GoogleDataAnalytics/Course8/CS1_cyclistic/CyclisticData/csv/202305-divvy-tripdata.csv',\n",
    "    '/Users/jasmine/Documents/GoogleDataAnalytics/Course8/CS1_cyclistic/CyclisticData/csv/202306-divvy-tripdata.csv',\n",
    "    '/Users/jasmine/Documents/GoogleDataAnalytics/Course8/CS1_cyclistic/CyclisticData/csv/202307-divvy-tripdata.csv',\n",
    "    '/Users/jasmine/Documents/GoogleDataAnalytics/Course8/CS1_cyclistic/CyclisticData/csv/202308-divvy-tripdata.csv',\n",
    "    '/Users/jasmine/Documents/GoogleDataAnalytics/Course8/CS1_cyclistic/CyclisticData/csv/202309-divvy-tripdata.csv',\n",
    "    '/Users/jasmine/Documents/GoogleDataAnalytics/Course8/CS1_cyclistic/CyclisticData/csv/202310-divvy-tripdata.csv',\n",
    "    '/Users/jasmine/Documents/GoogleDataAnalytics/Course8/CS1_cyclistic/CyclisticData/csv/202311-divvy-tripdata.csv',\n",
    "    '/Users/jasmine/Documents/GoogleDataAnalytics/Course8/CS1_cyclistic/CyclisticData/csv/202312-divvy-tripdata.csv',\n",
    "]"
   ]
  },
  {
   "cell_type": "code",
   "execution_count": 3,
   "id": "99216aa8-97dc-47f8-aadf-b118eabf7a0a",
   "metadata": {},
   "outputs": [],
   "source": [
    "dfs = [pd.read_csv(file) for file in file_paths]\n",
    "combined_df = pd.concat(dfs, ignore_index=True)"
   ]
  },
  {
   "cell_type": "code",
   "execution_count": 4,
   "id": "c721abc6-4d76-484f-91d3-a43cada8cb12",
   "metadata": {},
   "outputs": [
    {
     "data": {
      "text/plain": [
       "(5719877, 13)"
      ]
     },
     "execution_count": 4,
     "metadata": {},
     "output_type": "execute_result"
    }
   ],
   "source": [
    "combined_df.shape"
   ]
  },
  {
   "cell_type": "code",
   "execution_count": 5,
   "id": "8e6a7cea-3ba2-471b-8b4e-48e6cf3f0ce5",
   "metadata": {},
   "outputs": [],
   "source": [
    "combined_df.to_csv(r'/Users/jasmine/Documents/GoogleDataAnalytics/Course8/CS1_cyclistic/CyclisticData/csv/combined_cyclistic_data.csv', index=False)"
   ]
  }
 ],
 "metadata": {
  "kernelspec": {
   "display_name": "Python 3 (ipykernel)",
   "language": "python",
   "name": "python3"
  },
  "language_info": {
   "codemirror_mode": {
    "name": "ipython",
    "version": 3
   },
   "file_extension": ".py",
   "mimetype": "text/x-python",
   "name": "python",
   "nbconvert_exporter": "python",
   "pygments_lexer": "ipython3",
   "version": "3.11.5"
  }
 },
 "nbformat": 4,
 "nbformat_minor": 5
}
